{
 "cells": [
  {
   "cell_type": "code",
   "execution_count": 1,
   "metadata": {},
   "outputs": [],
   "source": [
    "import numpy as np\n",
    "import matplotlib.pyplot as plt"
   ]
  },
  {
   "cell_type": "code",
   "execution_count": 2,
   "metadata": {},
   "outputs": [
    {
     "data": {
      "text/plain": [
       "[<matplotlib.lines.Line2D at 0x1dd1ba011f0>]"
      ]
     },
     "execution_count": 2,
     "metadata": {},
     "output_type": "execute_result"
    },
    {
     "data": {
      "image/png": "[encoded data removed]",
      "text/plain": [
       "<Figure size 640x480 with 1 Axes>"
      ]
     },
     "metadata": {},
     "output_type": "display_data"
    }
   ],
   "source": [
    "# Map\n",
    "seed = 1338\n",
    "x_dim, y_dim = 100, 100\n",
    "num_landmarks = 10\n",
    "landmarks = np.hstack((np.random.RandomState(seed).rand(num_landmarks, 2) * np.array([x_dim, y_dim]), \\\n",
    "    np.arange(num_landmarks).reshape(-1, 1)))\n",
    "fov = 360 # field of view\n",
    "\n",
    "plt.xlim(0, x_dim)\n",
    "plt.ylim(0, y_dim)\n",
    "plt.plot(landmarks[:, 0], landmarks[:, 1], 'x')"
   ]
  },
  {
   "cell_type": "markdown",
   "metadata": {},
   "source": [
    "![](EKF.png)"
   ]
  },
  {
   "cell_type": "code",
   "execution_count": 3,
   "metadata": {},
   "outputs": [],
   "source": [
    "# EKF SLAM implementation\n",
    "# initialize"
   ]
  },
  {
   "cell_type": "code",
   "execution_count": 4,
   "metadata": {},
   "outputs": [],
   "source": [
    "Rt = np.array([[0.1,   0,   0], \n",
    "                [  0, 0.1,   0],\n",
    "                [  0,   0, 0.1]]) # Robot motion noise\n",
    "Qt = np.array([[0.1,   0],\n",
    "                [  0, 0.1]]) # Landmark measurement noise\n",
    "x = np.array([50, 20, 0]) # Initial robot pose\n",
    "\n",
    "timestep = 1\n",
    "x_hat = np.zeros((3 + 2 * num_landmarks, 1)) # mu, Initial state x, y, theta, x1, y1, x2, y2, ...\n",
    "x_hat[:3] = x.reshape(-1, 1)\n",
    "P_hat = np.zeros((3 + 2 * num_landmarks, 3 + 2 * num_landmarks)) # sigma0\n",
    "P_hat[3:, 3:] = np.eye(2*num_landmarks)*1e6 # set intial covariance for landmarks to large value"
   ]
  },
  {
   "cell_type": "code",
   "execution_count": 5,
   "metadata": {},
   "outputs": [
    {
     "name": "stderr",
     "output_type": "stream",
     "text": [
      "c:\\Users\\simen\\Git\\Project-fall22\\tests\\ekf.py:13: RuntimeWarning: divide by zero encountered in long_scalars\n",
      "  T = np.array([[-v/omega*np.sin(theta) + v/omega*np.sin(theta + omega*timestep)],\n",
      "c:\\Users\\simen\\Git\\Project-fall22\\tests\\ekf.py:13: RuntimeWarning: invalid value encountered in double_scalars\n",
      "  T = np.array([[-v/omega*np.sin(theta) + v/omega*np.sin(theta + omega*timestep)],\n",
      "c:\\Users\\simen\\Git\\Project-fall22\\tests\\ekf.py:14: RuntimeWarning: divide by zero encountered in long_scalars\n",
      "  [v/omega*np.cos(theta) - v/omega*np.cos(theta + omega*timestep)],\n",
      "c:\\Users\\simen\\Git\\Project-fall22\\tests\\ekf.py:14: RuntimeWarning: invalid value encountered in double_scalars\n",
      "  [v/omega*np.cos(theta) - v/omega*np.cos(theta + omega*timestep)],\n",
      "c:\\Users\\simen\\Git\\Project-fall22\\tests\\ekf.py:28: RuntimeWarning: divide by zero encountered in long_scalars\n",
      "  T = np.array([[0, 0, -v/omega*np.cos(theta) + v/omega*np.cos(theta + omega*timestep)],\n",
      "c:\\Users\\simen\\Git\\Project-fall22\\tests\\ekf.py:28: RuntimeWarning: invalid value encountered in double_scalars\n",
      "  T = np.array([[0, 0, -v/omega*np.cos(theta) + v/omega*np.cos(theta + omega*timestep)],\n",
      "c:\\Users\\simen\\Git\\Project-fall22\\tests\\ekf.py:29: RuntimeWarning: divide by zero encountered in long_scalars\n",
      "  [0, 0, -v/omega*np.sin(theta) + v/omega*np.sin(theta + omega*timestep)],\n",
      "c:\\Users\\simen\\Git\\Project-fall22\\tests\\ekf.py:29: RuntimeWarning: invalid value encountered in double_scalars\n",
      "  [0, 0, -v/omega*np.sin(theta) + v/omega*np.sin(theta + omega*timestep)],\n"
     ]
    },
    {
     "ename": "ValueError",
     "evalue": "operands could not be broadcast together with shapes (3,3) (23,23) ",
     "output_type": "error",
     "traceback": [
      "\u001b[1;31m---------------------------------------------------------------------------\u001b[0m",
      "\u001b[1;31mValueError\u001b[0m                                Traceback (most recent call last)",
      "Cell \u001b[1;32mIn [5], line 19\u001b[0m\n\u001b[0;32m      7\u001b[0m u \u001b[38;5;241m=\u001b[39m np\u001b[38;5;241m.\u001b[39marray([\u001b[38;5;241m1\u001b[39m, \u001b[38;5;241m0\u001b[39m])\n\u001b[0;32m      8\u001b[0m \u001b[38;5;28;01mwhile\u001b[39;00m \u001b[38;5;28;01mTrue\u001b[39;00m:\n\u001b[0;32m      9\u001b[0m     \u001b[38;5;66;03m# move robot\u001b[39;00m\n\u001b[0;32m     10\u001b[0m     \u001b[38;5;66;03m# predict\u001b[39;00m\n\u001b[1;32m   (...)\u001b[0m\n\u001b[0;32m     17\u001b[0m     \u001b[38;5;66;03m# x = robot.move(x, u, Rt)\u001b[39;00m\n\u001b[0;32m     18\u001b[0m     \u001b[38;5;66;03m# predict\u001b[39;00m\n\u001b[1;32m---> 19\u001b[0m     x_hat, P_hat \u001b[38;5;241m=\u001b[39m \u001b[43mekf\u001b[49m\u001b[38;5;241;43m.\u001b[39;49m\u001b[43mpredict\u001b[49m\u001b[43m(\u001b[49m\u001b[43mx_hat\u001b[49m\u001b[43m,\u001b[49m\u001b[43m \u001b[49m\u001b[43mu\u001b[49m\u001b[43m,\u001b[49m\u001b[43m \u001b[49m\u001b[43mP_hat\u001b[49m\u001b[43m,\u001b[49m\u001b[43m \u001b[49m\u001b[43mRt\u001b[49m\u001b[43m)\u001b[49m\n\u001b[0;32m     20\u001b[0m     \u001b[38;5;66;03m# sense\u001b[39;00m\n\u001b[0;32m     21\u001b[0m     z \u001b[38;5;241m=\u001b[39m robot\u001b[38;5;241m.\u001b[39msense(landmarks, x_hat, Qt)\n",
      "File \u001b[1;32mc:\\Users\\simen\\Git\\Project-fall22\\tests\\ekf.py:48\u001b[0m, in \u001b[0;36mEKF.predict\u001b[1;34m(self, x, u, P, Rt, timestep)\u001b[0m\n\u001b[0;32m     45\u001b[0m Fx[:\u001b[39m3\u001b[39m, :\u001b[39m3\u001b[39m] \u001b[39m=\u001b[39m np\u001b[39m.\u001b[39meye(\u001b[39m3\u001b[39m)\n\u001b[0;32m     47\u001b[0m x_hat \u001b[39m=\u001b[39m \u001b[39mself\u001b[39m\u001b[39m.\u001b[39mg(x, u, Fx, timestep)\n\u001b[1;32m---> 48\u001b[0m Gt \u001b[39m=\u001b[39m \u001b[39mself\u001b[39;49m\u001b[39m.\u001b[39;49mjacobian(x, u, Fx, timestep)\n\u001b[0;32m     49\u001b[0m P_hat \u001b[39m=\u001b[39m \u001b[39mself\u001b[39m\u001b[39m.\u001b[39mcov(Gt, Rt, P, Fx)\n\u001b[0;32m     50\u001b[0m \u001b[39mreturn\u001b[39;00m x_hat, P_hat\n",
      "File \u001b[1;32mc:\\Users\\simen\\Git\\Project-fall22\\tests\\ekf.py:32\u001b[0m, in \u001b[0;36mEKF.jacobian\u001b[1;34m(self, x, u, Fx, timestep)\u001b[0m\n\u001b[0;32m     26\u001b[0m v, omega \u001b[39m=\u001b[39m u[\u001b[39m0\u001b[39m], u[\u001b[39m1\u001b[39m]\n\u001b[0;32m     28\u001b[0m T \u001b[39m=\u001b[39m np\u001b[39m.\u001b[39marray([[\u001b[39m0\u001b[39m, \u001b[39m0\u001b[39m, \u001b[39m-\u001b[39mv\u001b[39m/\u001b[39momega\u001b[39m*\u001b[39mnp\u001b[39m.\u001b[39mcos(theta) \u001b[39m+\u001b[39m v\u001b[39m/\u001b[39momega\u001b[39m*\u001b[39mnp\u001b[39m.\u001b[39mcos(theta \u001b[39m+\u001b[39m omega\u001b[39m*\u001b[39mtimestep)],\n\u001b[0;32m     29\u001b[0m             [\u001b[39m0\u001b[39m, \u001b[39m0\u001b[39m, \u001b[39m-\u001b[39mv\u001b[39m/\u001b[39momega\u001b[39m*\u001b[39mnp\u001b[39m.\u001b[39msin(theta) \u001b[39m+\u001b[39m v\u001b[39m/\u001b[39momega\u001b[39m*\u001b[39mnp\u001b[39m.\u001b[39msin(theta \u001b[39m+\u001b[39m omega\u001b[39m*\u001b[39mtimestep)],\n\u001b[0;32m     30\u001b[0m             [\u001b[39m0\u001b[39m, \u001b[39m0\u001b[39m , \u001b[39m0\u001b[39m]])\n\u001b[1;32m---> 32\u001b[0m \u001b[39mreturn\u001b[39;00m np\u001b[39m.\u001b[39;49meye(\u001b[39m3\u001b[39;49m) \u001b[39m+\u001b[39;49m Fx\u001b[39m.\u001b[39;49mT \u001b[39m@\u001b[39;49m T \u001b[39m@\u001b[39;49m Fx\n",
      "\u001b[1;31mValueError\u001b[0m: operands could not be broadcast together with shapes (3,3) (23,23) "
     ]
    }
   ],
   "source": [
    "from ekf import EKF\n",
    "from robot import Robot\n",
    "ekf = EKF()\n",
    "robot = Robot(fov, 100)\n",
    "\n",
    "# simulate\n",
    "u = np.array([1, 0])\n",
    "while True:\n",
    "    # move robot\n",
    "    # predict\n",
    "    # sense\n",
    "    # update\n",
    "    # plot\n",
    "    # \n",
    "\n",
    "    # move\n",
    "    # x = robot.move(x, u, Rt)\n",
    "    # predict\n",
    "    x_hat, P_hat = ekf.predict(x_hat, u, P_hat, Rt)\n",
    "    # sense\n",
    "    z = robot.sense(landmarks, x_hat, Qt)\n",
    "\n",
    "    # update\n",
    "    x_hat, P_hat = ekf.update(x_hat, P_hat, z, Qt)\n",
    "    \n",
    "    # plot\n",
    "    plt.cla()\n",
    "    plt.xlim(0, x_dim)\n",
    "    plt.ylim(0, y_dim)\n",
    "    plt.plot(landmarks[:, 0], landmarks[:, 1], 'x')\n",
    "    plt.plot(x_hat[0], x_hat[1], 'o')\n",
    "    plt.plot(x_hat[3::2], x_hat[4::2], 'o')\n",
    "    plt.pause(0.1)"
   ]
  },
  {
   "cell_type": "code",
   "execution_count": null,
   "metadata": {},
   "outputs": [],
   "source": [
    "def g(u, x, Fx, timestep=1): \n",
    "    \"\"\"Motion model\n",
    "    u: control input [v, w]\n",
    "    x: state [x, y, theta, x1, y1, x2, y2, ...] (it's x_(t-1) )\"\"\"\n",
    "    x, y, theta = x[0], x[1], x[2]\n",
    "    v, omega = u[0], u[1]\n",
    "\n",
    "    T = np.array([[-v/omega*np.sin(theta) + v/omega*np.sin(theta + omega*timestep)],\n",
    "                    [v/omega*np.cos(theta) - v/omega*np.cos(theta + omega*timestep)],\n",
    "                    [omega*timestep]])\n",
    "\n",
    "    return x + Fx.T @ T"
   ]
  },
  {
   "cell_type": "code",
   "execution_count": null,
   "metadata": {},
   "outputs": [],
   "source": [
    "def jacobian(u, x, Fx, timestep=1):\n",
    "    \"\"\"Jacobian of motion model\n",
    "    u: control input [v, w]\n",
    "    x: state [x, y, theta, x1, y1, x2, y2, ...]\"\"\"\n",
    "    x, y, theta = x[0], x[1], x[2]\n",
    "    v, omega = u[0], u[1]\n",
    "\n",
    "    T = np.array([[0, 0, -v/omega*np.cos(theta) + v/omega*np.cos(theta + omega*timestep)],\n",
    "                  [0, 0, -v/omega*np.sin(theta) + v/omega*np.sin(theta + omega*timestep)],\n",
    "                  [0, 0 , 0]])\n",
    "\n",
    "    return np.eye(3) + Fx.T @ T @ Fx"
   ]
  },
  {
   "cell_type": "code",
   "execution_count": null,
   "metadata": {},
   "outputs": [],
   "source": [
    "def P_hat(Gt, Rt, P, Fx):\n",
    "    \"\"\"Covariance update\"\"\"\n",
    "    return Gt @ P @ Gt.T + Fx.T @ Rt @ Fx"
   ]
  },
  {
   "cell_type": "code",
   "execution_count": null,
   "metadata": {},
   "outputs": [],
   "source": [
    "def predict(u, x, P, Fx, Rt, timestep=1):\n",
    "    \"\"\"Predict step\"\"\"\n",
    "    x_hat = g(u, x, Fx, timestep)\n",
    "    Gt = jacobian(u, x, Fx, timestep)\n",
    "    P_hat = P_hat(Gt, Rt, P, Fx)\n",
    "    return x_hat, P_hat"
   ]
  },
  {
   "cell_type": "code",
   "execution_count": null,
   "metadata": {},
   "outputs": [],
   "source": [
    "def update(x_hat, P_hat, z, Qt, Fx, threshold=1e6):\n",
    "    \"\"\"Update step\n",
    "    x_hat: state [x, y, theta, x1, y1, x2, y2, ...],  shape (3 + 2 * num_landmarks, 1)\n",
    "    P_hat: covariance matrix, shape (3 + 2 * num_landmarks, 3 + 2 * num_landmarks)\n",
    "    z: measurement [range r, bearing theta, landmark index j], shape: (3, num_landmarks)\n",
    "    Qt: measurement noise, shape: (2, 2)\n",
    "    Fx: Jacobian of motion model, shape: (3, 3 + 2 * num_landmarks)\n",
    "    \"\"\"\n",
    "    for r, theta, j in z:\n",
    "        j = int(j)\n",
    "        if P_hat[3 + 2*j, 3 + 2*j] >= threshold and P_hat[3 + 2*j + 1, 3 + 2*j + 1] >= threshold:\n",
    "            # initialize landmark\n",
    "            x_hat[3 + 2*j, 0] = x_hat[0, 0] + r * np.cos(x_hat[2, 0] + theta)\n",
    "            x_hat[3 + 2*j + 1, 0] = x_hat[1, 0] + r * np.sin(x_hat[2, 0] + theta)\n",
    "    \n",
    "        # Distance between robot and landmark\n",
    "        delta = np.array([[x_hat[3 + 2*j, 0] - x_hat[0, 0]],\n",
    "                            [x_hat[3 + 2*j + 1, 0] - x_hat[1, 0]]])\n",
    "\n",
    "        # Measurement estimate from robot to landmark\n",
    "        q = delta.T @ delta\n",
    "        z_hat = np.array([[np.sqrt(q)],\n",
    "                            [np.arctan2(delta[1, 0], delta[0, 0]) - x_hat[2, 0]]])\n",
    "\n",
    "        # Jacobian of measurement model\n",
    "        H = (np.array([[-np.sqrt(q)*delta[0, 0], -np.sqrt(q)*delta[1, 0], 0, np.sqrt(q)*delta[0, 0], np.sqrt(q)*delta[1, 0]],\n",
    "                        [delta[1, 0], -delta[0, 0], -q, -delta[1, 0], delta[0, 0]]]) / q) @ Fx\n",
    "\n",
    "        # Kalman gain\n",
    "        K = P_hat @ H.T @ np.linalg.inv(H @ P_hat @ H.T + Qt)\n",
    "\n",
    "        # Update state and covariance\n",
    "        x_hat = x_hat + K @ (np.array([[r], [theta]]) - z_hat)\n",
    "        P_hat = (np.eye(3 + 2 * num_landmarks) - K @ H) @ P_hat\n",
    "    return x_hat, P_hat"
   ]
  }
 ],
 "metadata": {
  "kernelspec": {
   "display_name": "Python 3.9.12 ('standard')",
   "language": "python",
   "name": "python3"
  },
  "language_info": {
   "codemirror_mode": {
    "name": "ipython",
    "version": 3
   },
   "file_extension": ".py",
   "mimetype": "text/x-python",
   "name": "python",
   "nbconvert_exporter": "python",
   "pygments_lexer": "ipython3",
   "version": "3.9.12"
  },
  "orig_nbformat": 4,
  "vscode": {
   "interpreter": {
    "hash": "76a92e6c3f74008919f77d1e102d5dd3b24c756cbeb6049164cc910e722d0bb5"
   }
  }
 },
 "nbformat": 4,
 "nbformat_minor": 2
}
