{
 "cells": [
  {
   "cell_type": "code",
   "execution_count": 17,
   "metadata": {},
   "outputs": [],
   "source": [
    "import numpy as np\n",
    "import matplotlib.pyplot as plt"
   ]
  },
  {
   "cell_type": "code",
   "execution_count": 31,
   "metadata": {},
   "outputs": [
    {
     "data": {
      "text/plain": [
       "[<matplotlib.lines.Line2D at 0x1c6ea3fa610>]"
      ]
     },
     "execution_count": 31,
     "metadata": {},
     "output_type": "execute_result"
    },
    {
     "data": {
      "image/png": "[encoded data removed]",
      "text/plain": [
       "<Figure size 432x288 with 1 Axes>"
      ]
     },
     "metadata": {
      "needs_background": "light"
     },
     "output_type": "display_data"
    }
   ],
   "source": [
    "# Map\n",
    "seed = 1338\n",
    "x_dim, y_dim = 100, 100\n",
    "num_landmarks = 10\n",
    "landmarks = np.random.RandomState(seed).rand(num_landmarks, 2) * np.array([x_dim, y_dim])\n",
    "fov = 360 # field of view\n",
    "\n",
    "plt.xlim(0, x_dim)\n",
    "plt.ylim(0, y_dim)\n",
    "plt.plot(landmarks[:, 0], landmarks[:, 1], 'x')"
   ]
  },
  {
   "cell_type": "markdown",
   "metadata": {},
   "source": [
    "![](EKF.png)"
   ]
  },
  {
   "cell_type": "code",
   "execution_count": 19,
   "metadata": {},
   "outputs": [],
   "source": [
    "# EKF SLAM implementation\n",
    "# initialize\n",
    "Rt = np.array([[0.1, 0, 0], [0, 0.1, 0], [0, 0, 0.1]]) # Robot motion noise\n",
    "Qt = np.array([[0.1, 0], [0, 0.1]]) # Landmark measurement noise\n",
    "x0 = np.array([50, 20, 0]) # Initial robot pose"
   ]
  },
  {
   "cell_type": "code",
   "execution_count": 34,
   "metadata": {},
   "outputs": [],
   "source": [
    "x_hat = np.zeros((3 + 2 * num_landmarks, 1)) # mu, Initial state x, y, theta, x1, y1, x2, y2, ...\n",
    "P_hat = np.zeros((3 + 2 * num_landmarks, 3 + 2 * num_landmarks)) # sigma0\n",
    "P_hat[3:, 3:] = np.eye(20)*1000 # set intial covariance for landmarks to large value\n",
    "Fx = np.zeros((3, x_hat.shape[0]))\n",
    "Fx[:3, :3] = np.eye(3)"
   ]
  },
  {
   "cell_type": "code",
   "execution_count": 35,
   "metadata": {},
   "outputs": [],
   "source": [
    "def g(u, x, Fx, timestep=1): \n",
    "    \"\"\"Motion model\n",
    "    u: control input [v, w]\n",
    "    x: state [x, y, theta, x1, y1, x2, y2, ...] (it's x_(t-1) )\"\"\"\n",
    "    x, y, theta = x[0], x[1], x[2]\n",
    "    v, omega = u[0], u[1]\n",
    "\n",
    "    T = np.array([[-v/omega*np.sin(theta) + v/omega*np.sin(theta + omega*timestep)],\n",
    "                    [v/omega*np.cos(theta) - v/omega*np.cos(theta + omega*timestep)],\n",
    "                    [omega*timestep]])\n",
    "\n",
    "    return x + Fx.T @ T"
   ]
  },
  {
   "cell_type": "code",
   "execution_count": 36,
   "metadata": {},
   "outputs": [],
   "source": [
    "def jacobian(u, x, Fx, timestep=1):\n",
    "    \"\"\"Jacobian of motion model\n",
    "    u: control input [v, w]\n",
    "    x: state [x, y, theta, x1, y1, x2, y2, ...]\"\"\"\n",
    "    x, y, theta = x[0], x[1], x[2]\n",
    "    v, omega = u[0], u[1]\n",
    "\n",
    "    T = np.array([[0, 0, -v/omega*np.cos(theta) + v/omega*np.cos(theta + omega*timestep)],\n",
    "                  [0, 0, -v/omega*np.sin(theta) + v/omega*np.sin(theta + omega*timestep)],\n",
    "                  [0, 0 , 0]])\n",
    "\n",
    "    return np.eye(3) + Fx.T @ T @ Fx"
   ]
  },
  {
   "cell_type": "code",
   "execution_count": 37,
   "metadata": {},
   "outputs": [],
   "source": [
    "def P_hat(Gt, Rt, P, Fx):\n",
    "    \"\"\"Covariance update\"\"\"\n",
    "    return Gt @ P @ Gt.T + Fx.T @ Rt @ Fx"
   ]
  },
  {
   "cell_type": "code",
   "execution_count": null,
   "metadata": {},
   "outputs": [],
   "source": [
    "def predict(u, x, P, Fx, Rt, timestep=1):\n",
    "    \"\"\"Predict step\"\"\"\n",
    "    x_hat = g(u, x, Fx, timestep)\n",
    "    Gt = jacobian(u, x, Fx, timestep)\n",
    "    P_hat = P_hat(Gt, Rt, P, Fx)\n",
    "    return x_hat, P_hat"
   ]
  },
  {
   "cell_type": "code",
   "execution_count": null,
   "metadata": {},
   "outputs": [],
   "source": [
    "def update(x_hat, P_hat, z, Qt, Fx, threshold=1e6):\n",
    "    \"\"\"Update step\n",
    "    x_hat: state [x, y, theta, x1, y1, x2, y2, ...],  shape (3 + 2 * num_landmarks, 1)\n",
    "    P_hat: covariance matrix, shape (3 + 2 * num_landmarks, 3 + 2 * num_landmarks)\n",
    "    z: measurement [range r, bearing theta, landmark index j], shape: (3, num_landmarks)\n",
    "    Qt: measurement noise, shape: (2, 2)\n",
    "    Fx: Jacobian of motion model, shape: (3, 3 + 2 * num_landmarks)\n",
    "    \"\"\"\n",
    "    for r, theta, j in z:\n",
    "        j = int(j)\n",
    "        if P_hat[3 + 2*j, 3 + 2*j] >= threshold and P_hat[3 + 2*j + 1, 3 + 2*j + 1] >= threshold:\n",
    "            # initialize landmark\n",
    "            x_hat[3 + 2*j, 0] = x_hat[0, 0] + r * np.cos(x_hat[2, 0] + theta)\n",
    "            x_hat[3 + 2*j + 1, 0] = x_hat[1, 0] + r * np.sin(x_hat[2, 0] + theta)\n",
    "    \n",
    "        # Distance between robot and landmark\n",
    "        delta = np.array([[x_hat[3 + 2*j, 0] - x_hat[0, 0]],\n",
    "                            [x_hat[3 + 2*j + 1, 0] - x_hat[1, 0]]])\n",
    "\n",
    "        # Measurement estimate from robot to landmark\n",
    "        q = delta.T @ delta\n",
    "        z_hat = np.array([[np.sqrt(q)],\n",
    "                            [np.arctan2(delta[1, 0], delta[0, 0]) - x_hat[2, 0]]])\n",
    "\n",
    "        # Jacobian of measurement model\n",
    "        H = (np.array([[-np.sqrt(q)*delta[0, 0], -np.sqrt(q)*delta[1, 0], 0, np.sqrt(q)*delta[0, 0], np.sqrt(q)*delta[1, 0]],\n",
    "                        [delta[1, 0], -delta[0, 0], -q, -delta[1, 0], delta[0, 0]]]) / q) @ Fx\n",
    "\n",
    "        # Kalman gain\n",
    "        K = P_hat @ H.T @ np.linalg.inv(H @ P_hat @ H.T + Qt)\n",
    "\n",
    "        # Update state and covariance\n",
    "        x_hat = x_hat + K @ (np.array([[r], [theta]]) - z_hat)\n",
    "        P_hat = (np.eye(3 + 2 * num_landmarks) - K @ H) @ P_hat\n",
    "    return x_hat, P_hat"
   ]
  }
 ],
 "metadata": {
  "kernelspec": {
   "display_name": "Python 3.8.12 ('percep')",
   "language": "python",
   "name": "python3"
  },
  "language_info": {
   "codemirror_mode": {
    "name": "ipython",
    "version": 3
   },
   "file_extension": ".py",
   "mimetype": "text/x-python",
   "name": "python",
   "nbconvert_exporter": "python",
   "pygments_lexer": "ipython3",
   "version": "3.8.12"
  },
  "orig_nbformat": 4,
  "vscode": {
   "interpreter": {
    "hash": "6384cf20e1ae02cea4ce644255ccfbc524cade423413a8fb5a7c66c3bfac5883"
   }
  }
 },
 "nbformat": 4,
 "nbformat_minor": 2
}
